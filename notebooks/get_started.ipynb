{
 "cells": [
  {
   "cell_type": "code",
   "execution_count": 3,
   "metadata": {
    "collapsed": false,
    "jupyter": {
     "outputs_hidden": false
    },
    "tags": []
   },
   "outputs": [],
   "source": [
    "%matplotlib inline\n",
    "from pyvista import set_plot_theme\n",
    "set_plot_theme('document')"
   ]
  },
  {
   "cell_type": "markdown",
   "metadata": {},
   "source": [
    "\n",
    "# Getting Started\n"
   ]
  },
  {
   "cell_type": "code",
   "execution_count": 4,
   "metadata": {
    "collapsed": false,
    "jupyter": {
     "outputs_hidden": false
    },
    "tags": []
   },
   "outputs": [
    {
     "name": "stdout",
     "output_type": "stream",
     "text": [
      "Setting Backend To: AvailableBackends.numpy\n"
     ]
    },
    {
     "ename": "ValueError",
     "evalue": "mutable default <class 'numpy.ndarray'> for field values is not allowed: use default_factory",
     "output_type": "error",
     "traceback": [
      "\u001b[0;31m---------------------------------------------------------------------------\u001b[0m",
      "\u001b[0;31mValueError\u001b[0m                                Traceback (most recent call last)",
      "Cell \u001b[0;32mIn[4], line 2\u001b[0m\n\u001b[1;32m      1\u001b[0m \u001b[38;5;66;03m# Importing GemPy and viewer\u001b[39;00m\n\u001b[0;32m----> 2\u001b[0m \u001b[38;5;28;01mimport\u001b[39;00m \u001b[38;5;21;01mgempy\u001b[39;00m \u001b[38;5;28;01mas\u001b[39;00m \u001b[38;5;21;01mgp\u001b[39;00m\n\u001b[1;32m      3\u001b[0m \u001b[38;5;28;01mimport\u001b[39;00m \u001b[38;5;21;01mgempy_viewer\u001b[39;00m \u001b[38;5;28;01mas\u001b[39;00m \u001b[38;5;21;01mgpv\u001b[39;00m\n\u001b[1;32m      5\u001b[0m \u001b[38;5;66;03m# Auxiliary libraries\u001b[39;00m\n",
      "File \u001b[0;32m~/anaconda3/lib/python3.11/site-packages/gempy/__init__.py:10\u001b[0m\n\u001b[1;32m      7\u001b[0m \u001b[38;5;28;01mimport\u001b[39;00m \u001b[38;5;21;01msys\u001b[39;00m\n\u001b[1;32m      9\u001b[0m \u001b[38;5;66;03m# =================== CORE ===================\u001b[39;00m\n\u001b[0;32m---> 10\u001b[0m \u001b[38;5;28;01mfrom\u001b[39;00m \u001b[38;5;21;01m.\u001b[39;00m\u001b[38;5;21;01mcore\u001b[39;00m \u001b[38;5;28;01mimport\u001b[39;00m data\n\u001b[1;32m     11\u001b[0m \u001b[38;5;28;01mfrom\u001b[39;00m \u001b[38;5;21;01m.\u001b[39;00m\u001b[38;5;21;01mcore\u001b[39;00m\u001b[38;5;21;01m.\u001b[39;00m\u001b[38;5;21;01mcolor_generator\u001b[39;00m \u001b[38;5;28;01mimport\u001b[39;00m ColorsGenerator\n\u001b[1;32m     13\u001b[0m \u001b[38;5;66;03m# =================== API ===================\u001b[39;00m\n",
      "File \u001b[0;32m~/anaconda3/lib/python3.11/site-packages/gempy/core/data/__init__.py:1\u001b[0m\n\u001b[0;32m----> 1\u001b[0m \u001b[38;5;28;01mfrom\u001b[39;00m \u001b[38;5;21;01m.\u001b[39;00m\u001b[38;5;21;01mgeo_model\u001b[39;00m \u001b[38;5;28;01mimport\u001b[39;00m GeoModel\n\u001b[1;32m      2\u001b[0m \u001b[38;5;28;01mfrom\u001b[39;00m \u001b[38;5;21;01m.\u001b[39;00m\u001b[38;5;21;01mstructural_frame\u001b[39;00m \u001b[38;5;28;01mimport\u001b[39;00m StructuralFrame\n\u001b[1;32m      3\u001b[0m \u001b[38;5;28;01mfrom\u001b[39;00m \u001b[38;5;21;01m.\u001b[39;00m\u001b[38;5;21;01mstructural_group\u001b[39;00m \u001b[38;5;28;01mimport\u001b[39;00m StructuralGroup\n",
      "File \u001b[0;32m~/anaconda3/lib/python3.11/site-packages/gempy/core/data/geo_model.py:20\u001b[0m\n\u001b[1;32m     18\u001b[0m \u001b[38;5;28;01mfrom\u001b[39;00m \u001b[38;5;21;01m.\u001b[39;00m\u001b[38;5;21;01msurface_points\u001b[39;00m \u001b[38;5;28;01mimport\u001b[39;00m SurfacePointsTable\n\u001b[1;32m     19\u001b[0m \u001b[38;5;28;01mfrom\u001b[39;00m \u001b[38;5;21;01m.\u001b[39;00m\u001b[38;5;21;01mstructural_frame\u001b[39;00m \u001b[38;5;28;01mimport\u001b[39;00m StructuralFrame\n\u001b[0;32m---> 20\u001b[0m \u001b[38;5;28;01mfrom\u001b[39;00m \u001b[38;5;21;01m.\u001b[39;00m\u001b[38;5;21;01mgrid\u001b[39;00m \u001b[38;5;28;01mimport\u001b[39;00m Grid\n\u001b[1;32m     21\u001b[0m \u001b[38;5;28;01mfrom\u001b[39;00m \u001b[38;5;21;01m.\u001b[39;00m\u001b[38;5;21;01m.\u001b[39;00m\u001b[38;5;21;01m.\u001b[39;00m\u001b[38;5;21;01mmodules\u001b[39;00m\u001b[38;5;21;01m.\u001b[39;00m\u001b[38;5;21;01mdata_manipulation\u001b[39;00m\u001b[38;5;21;01m.\u001b[39;00m\u001b[38;5;21;01mengine_factory\u001b[39;00m \u001b[38;5;28;01mimport\u001b[39;00m interpolation_input_from_structural_frame\n\u001b[1;32m     23\u001b[0m \u001b[38;5;124;03m\"\"\"\u001b[39;00m\n\u001b[1;32m     24\u001b[0m \u001b[38;5;124;03mTODO:\u001b[39;00m\n\u001b[1;32m     25\u001b[0m \u001b[38;5;124;03m    - [ ] StructuralFrame will all input points chunked on Elements. Here I will need a property to put all\u001b[39;00m\n\u001b[1;32m     26\u001b[0m \u001b[38;5;124;03m    together to feed to InterpolationInput\u001b[39;00m\n\u001b[1;32m     27\u001b[0m \n\u001b[1;32m     28\u001b[0m \u001b[38;5;124;03m\"\"\"\u001b[39;00m\n",
      "File \u001b[0;32m~/anaconda3/lib/python3.11/site-packages/gempy/core/data/grid.py:15\u001b[0m\n\u001b[1;32m     11\u001b[0m \u001b[38;5;28;01mfrom\u001b[39;00m \u001b[38;5;21;01m.\u001b[39;00m\u001b[38;5;21;01mgrid_modules\u001b[39;00m \u001b[38;5;28;01mimport\u001b[39;00m RegularGrid, CustomGrid, Sections\n\u001b[1;32m     12\u001b[0m \u001b[38;5;28;01mfrom\u001b[39;00m \u001b[38;5;21;01m.\u001b[39;00m\u001b[38;5;21;01mgrid_modules\u001b[39;00m\u001b[38;5;21;01m.\u001b[39;00m\u001b[38;5;21;01mtopography\u001b[39;00m \u001b[38;5;28;01mimport\u001b[39;00m Topography\n\u001b[0;32m---> 15\u001b[0m \u001b[38;5;129m@dataclasses\u001b[39m\u001b[38;5;241m.\u001b[39mdataclass\n\u001b[1;32m     16\u001b[0m \u001b[38;5;28;01mclass\u001b[39;00m \u001b[38;5;21;01mGrid\u001b[39;00m:\n\u001b[1;32m     17\u001b[0m     \u001b[38;5;28;01mclass\u001b[39;00m \u001b[38;5;21;01mGridTypes\u001b[39;00m(enum\u001b[38;5;241m.\u001b[39mFlag):\n\u001b[1;32m     18\u001b[0m         OCTREE \u001b[38;5;241m=\u001b[39m \u001b[38;5;241m2\u001b[39m \u001b[38;5;241m*\u001b[39m\u001b[38;5;241m*\u001b[39m \u001b[38;5;241m0\u001b[39m\n",
      "File \u001b[0;32m~/anaconda3/lib/python3.11/dataclasses.py:1230\u001b[0m, in \u001b[0;36mdataclass\u001b[0;34m(cls, init, repr, eq, order, unsafe_hash, frozen, match_args, kw_only, slots, weakref_slot)\u001b[0m\n\u001b[1;32m   1227\u001b[0m     \u001b[38;5;28;01mreturn\u001b[39;00m wrap\n\u001b[1;32m   1229\u001b[0m \u001b[38;5;66;03m# We're called as @dataclass without parens.\u001b[39;00m\n\u001b[0;32m-> 1230\u001b[0m \u001b[38;5;28;01mreturn\u001b[39;00m wrap(\u001b[38;5;28mcls\u001b[39m)\n",
      "File \u001b[0;32m~/anaconda3/lib/python3.11/dataclasses.py:1220\u001b[0m, in \u001b[0;36mdataclass.<locals>.wrap\u001b[0;34m(cls)\u001b[0m\n\u001b[1;32m   1219\u001b[0m \u001b[38;5;28;01mdef\u001b[39;00m \u001b[38;5;21mwrap\u001b[39m(\u001b[38;5;28mcls\u001b[39m):\n\u001b[0;32m-> 1220\u001b[0m     \u001b[38;5;28;01mreturn\u001b[39;00m _process_class(\u001b[38;5;28mcls\u001b[39m, init, \u001b[38;5;28mrepr\u001b[39m, eq, order, unsafe_hash,\n\u001b[1;32m   1221\u001b[0m                           frozen, match_args, kw_only, slots,\n\u001b[1;32m   1222\u001b[0m                           weakref_slot)\n",
      "File \u001b[0;32m~/anaconda3/lib/python3.11/dataclasses.py:958\u001b[0m, in \u001b[0;36m_process_class\u001b[0;34m(cls, init, repr, eq, order, unsafe_hash, frozen, match_args, kw_only, slots, weakref_slot)\u001b[0m\n\u001b[1;32m    955\u001b[0m         kw_only \u001b[38;5;241m=\u001b[39m \u001b[38;5;28;01mTrue\u001b[39;00m\n\u001b[1;32m    956\u001b[0m     \u001b[38;5;28;01melse\u001b[39;00m:\n\u001b[1;32m    957\u001b[0m         \u001b[38;5;66;03m# Otherwise it's a field of some type.\u001b[39;00m\n\u001b[0;32m--> 958\u001b[0m         cls_fields\u001b[38;5;241m.\u001b[39mappend(_get_field(\u001b[38;5;28mcls\u001b[39m, name, \u001b[38;5;28mtype\u001b[39m, kw_only))\n\u001b[1;32m    960\u001b[0m \u001b[38;5;28;01mfor\u001b[39;00m f \u001b[38;5;129;01min\u001b[39;00m cls_fields:\n\u001b[1;32m    961\u001b[0m     fields[f\u001b[38;5;241m.\u001b[39mname] \u001b[38;5;241m=\u001b[39m f\n",
      "File \u001b[0;32m~/anaconda3/lib/python3.11/dataclasses.py:815\u001b[0m, in \u001b[0;36m_get_field\u001b[0;34m(cls, a_name, a_type, default_kw_only)\u001b[0m\n\u001b[1;32m    811\u001b[0m \u001b[38;5;66;03m# For real fields, disallow mutable defaults.  Use unhashable as a proxy\u001b[39;00m\n\u001b[1;32m    812\u001b[0m \u001b[38;5;66;03m# indicator for mutability.  Read the __hash__ attribute from the class,\u001b[39;00m\n\u001b[1;32m    813\u001b[0m \u001b[38;5;66;03m# not the instance.\u001b[39;00m\n\u001b[1;32m    814\u001b[0m \u001b[38;5;28;01mif\u001b[39;00m f\u001b[38;5;241m.\u001b[39m_field_type \u001b[38;5;129;01mis\u001b[39;00m _FIELD \u001b[38;5;129;01mand\u001b[39;00m f\u001b[38;5;241m.\u001b[39mdefault\u001b[38;5;241m.\u001b[39m\u001b[38;5;18m__class__\u001b[39m\u001b[38;5;241m.\u001b[39m\u001b[38;5;21m__hash__\u001b[39m \u001b[38;5;129;01mis\u001b[39;00m \u001b[38;5;28;01mNone\u001b[39;00m:\n\u001b[0;32m--> 815\u001b[0m     \u001b[38;5;28;01mraise\u001b[39;00m \u001b[38;5;167;01mValueError\u001b[39;00m(\u001b[38;5;124mf\u001b[39m\u001b[38;5;124m'\u001b[39m\u001b[38;5;124mmutable default \u001b[39m\u001b[38;5;132;01m{\u001b[39;00m\u001b[38;5;28mtype\u001b[39m(f\u001b[38;5;241m.\u001b[39mdefault)\u001b[38;5;132;01m}\u001b[39;00m\u001b[38;5;124m for field \u001b[39m\u001b[38;5;124m'\u001b[39m\n\u001b[1;32m    816\u001b[0m                      \u001b[38;5;124mf\u001b[39m\u001b[38;5;124m'\u001b[39m\u001b[38;5;132;01m{\u001b[39;00mf\u001b[38;5;241m.\u001b[39mname\u001b[38;5;132;01m}\u001b[39;00m\u001b[38;5;124m is not allowed: use default_factory\u001b[39m\u001b[38;5;124m'\u001b[39m)\n\u001b[1;32m    818\u001b[0m \u001b[38;5;28;01mreturn\u001b[39;00m f\n",
      "\u001b[0;31mValueError\u001b[0m: mutable default <class 'numpy.ndarray'> for field values is not allowed: use default_factory"
     ]
    }
   ],
   "source": [
    "# Importing GemPy and viewer\n",
    "import gempy as gp\n",
    "import gempy_viewer as gpv\n",
    "\n",
    "# Auxiliary libraries\n",
    "import numpy as np\n",
    "import matplotlib.pyplot as plt\n",
    "import matplotlib.image as mpimg"
   ]
  },
  {
   "cell_type": "markdown",
   "metadata": {},
   "source": [
    "## Initializing the model:\n",
    "\n",
    "Create a gempy.Model object. This object will contain all other data structures\n",
    "and necessary functionality. We'll also define a regular grid for this example.\n",
    "This grid will be used for interpolating the 3D geological model. GemPy offers\n",
    "different grids for various purposes. For visualization, a regular grid is most\n",
    "appropriate. \n",
    "\n"
   ]
  },
  {
   "cell_type": "code",
   "execution_count": null,
   "metadata": {
    "collapsed": false,
    "jupyter": {
     "outputs_hidden": false
    }
   },
   "outputs": [],
   "source": [
    "geo_model: gp.data.GeoModel = gp.create_geomodel(\n",
    "    project_name='Model1',\n",
    "    extent=[0, 791, -200, 200, -582, 0],\n",
    "    resolution=None,\n",
    "    refinement=4, # We will use octrees\n",
    "    structural_frame=gp.data.StructuralFrame.initialize_default_structure()\n",
    ")\n",
    "geo_model"
   ]
  },
  {
   "cell_type": "markdown",
   "metadata": {},
   "source": [
    "## Creating a figure:\n",
    "\n",
    "GemPy utilizes matplotlib for 2D and pyvista-vtk for 3D visualizations. \n",
    "One design goal of GemPy is real-time model construction. This means as input data\n",
    "is added, you can see the 3D surfaces update in real-time. Let's initialize \n",
    "the visualization windows. First, the 2D figure:\n",
    "\n"
   ]
  },
  {
   "cell_type": "code",
   "execution_count": null,
   "metadata": {
    "collapsed": false,
    "jupyter": {
     "outputs_hidden": false
    }
   },
   "outputs": [],
   "source": [
    "p2d = gpv.plot_2d(geo_model)"
   ]
  },
  {
   "cell_type": "markdown",
   "metadata": {},
   "source": [
    "### Adding a model section:\n",
    "\n",
    "In the 2D renderer, we can add several cross sections of the model. \n",
    "For simplicity, we'll add just one, perpendicular to y.\n",
    "\n"
   ]
  },
  {
   "cell_type": "markdown",
   "metadata": {},
   "source": [
    "#### Loading a cross-section image:\n",
    "\n",
    "GemPy uses standard matplotlib axes, allowing for flexibility. \n",
    "Let's load an image showing the details of a couple of boreholes:\n",
    "\n"
   ]
  },
  {
   "cell_type": "code",
   "execution_count": null,
   "metadata": {
    "collapsed": false,
    "jupyter": {
     "outputs_hidden": false
    }
   },
   "outputs": [],
   "source": [
    "img = mpimg.imread('wells.png')\n",
    "p2d = gpv.plot_2d(geo_model, show=False)\n",
    "p2d.axes[0].imshow(img, origin='upper', alpha=.8, extent=(0, 791, -582, 0))\n",
    "plt.show()"
   ]
  },
  {
   "cell_type": "markdown",
   "metadata": {},
   "source": [
    "Similarly, we can visualize in 3D using pyvista and vtk:\n",
    "\n"
   ]
  },
  {
   "cell_type": "code",
   "execution_count": null,
   "metadata": {
    "collapsed": false,
    "jupyter": {
     "outputs_hidden": false
    }
   },
   "outputs": [],
   "source": [
    "p3d = gpv.plot_3d(geo_model, image=True)"
   ]
  },
  {
   "cell_type": "markdown",
   "metadata": {},
   "source": [
    "#### Building the model:\n",
    "\n",
    "With everything initialized, we can begin constructing the geological model.\n",
    "\n",
    "## Surfaces:\n",
    "\n",
    "GemPy is a surface-based interpolator. All input data must be referred to a \n",
    "surface, which marks the bottom of a unit. By default, GemPy surfaces are empty:\n",
    "\n"
   ]
  },
  {
   "cell_type": "code",
   "execution_count": null,
   "metadata": {
    "collapsed": false,
    "jupyter": {
     "outputs_hidden": false
    }
   },
   "outputs": [],
   "source": [
    "geo_model.structural_frame.structural_elements"
   ]
  },
  {
   "cell_type": "markdown",
   "metadata": {},
   "source": [
    "Let's begin by adding data. GemPy input data consists of surface points and \n",
    "orientations (perpendicular to the layers). The 2D plot provides X and Z \n",
    "coordinates on mouse hover (in qt5 backend). We can add a surface point like this:\n",
    "\n"
   ]
  },
  {
   "cell_type": "code",
   "execution_count": null,
   "metadata": {
    "collapsed": false,
    "jupyter": {
     "outputs_hidden": false
    }
   },
   "outputs": [],
   "source": [
    "gp.add_surface_points(\n",
    "    geo_model=geo_model,\n",
    "    x=[223],\n",
    "    y=[0.01],\n",
    "    z=[-94],\n",
    "    elements_names=['surface1']\n",
    ")\n",
    "\n",
    "gpv.plot_2d(geo_model, cell_number=11)\n",
    "gpv.plot_3d(geo_model, image=True)"
   ]
  },
  {
   "cell_type": "markdown",
   "metadata": {},
   "source": [
    "We can now add other points for the layer:\n",
    "\n"
   ]
  },
  {
   "cell_type": "code",
   "execution_count": null,
   "metadata": {
    "collapsed": false,
    "jupyter": {
     "outputs_hidden": false
    }
   },
   "outputs": [],
   "source": [
    "gp.add_surface_points(\n",
    "    geo_model=geo_model,\n",
    "    x=[458, 612],\n",
    "    y=[0, 0],\n",
    "    z=[-107, -14],\n",
    "    elements_names=['surface1', 'surface1']\n",
    ")\n",
    "\n",
    "gpv.plot_2d(geo_model, cell_number=11)\n",
    "gpv.plot_3d(geo_model, image=True)"
   ]
  },
  {
   "cell_type": "markdown",
   "metadata": {},
   "source": [
    "To interpolate in gempy, the minimum data needed is:\n",
    "\n",
    "  a) 2 surface points per surface \n",
    "\n",
    "  b) One orientation per series\n",
    "\n",
    "Let's add an orientation:\n",
    "\n"
   ]
  },
  {
   "cell_type": "code",
   "execution_count": null,
   "metadata": {
    "collapsed": false,
    "jupyter": {
     "outputs_hidden": false
    }
   },
   "outputs": [],
   "source": [
    "gp.add_orientations(\n",
    "    geo_model=geo_model,\n",
    "    x=[350],\n",
    "    y=[1],\n",
    "    z=[-300],\n",
    "    elements_names=['surface1'],\n",
    "    pole_vector=[[0, 0, 1.01]]\n",
    ")\n",
    "\n",
    "gpv.plot_2d(geo_model, cell_number=5)\n",
    "gpv.plot_3d(geo_model, image=True)"
   ]
  },
  {
   "cell_type": "markdown",
   "metadata": {},
   "source": [
    "## Update and Recompute Model Transform:\n",
    "Removing auto anisotropy for this 2.5D model.\n",
    "\n"
   ]
  },
  {
   "cell_type": "code",
   "execution_count": null,
   "metadata": {
    "collapsed": false,
    "jupyter": {
     "outputs_hidden": false
    }
   },
   "outputs": [],
   "source": [
    "geo_model.update_transform(gp.data.GlobalAnisotropy.NONE)"
   ]
  },
  {
   "cell_type": "markdown",
   "metadata": {},
   "source": [
    "## Interpolation:\n",
    "With the provided data, we can now interpolate the 3D surface.\n",
    "\n"
   ]
  },
  {
   "cell_type": "code",
   "execution_count": null,
   "metadata": {
    "collapsed": false,
    "jupyter": {
     "outputs_hidden": false
    }
   },
   "outputs": [],
   "source": [
    "gp.compute_model(geo_model, engine_config=gp.data.GemPyEngineConfig())"
   ]
  },
  {
   "cell_type": "markdown",
   "metadata": {},
   "source": [
    "Display interpolation kernel options:\n",
    "\n"
   ]
  },
  {
   "cell_type": "code",
   "execution_count": null,
   "metadata": {
    "collapsed": false,
    "jupyter": {
     "outputs_hidden": false
    }
   },
   "outputs": [],
   "source": [
    "geo_model.interpolation_options.kernel_options"
   ]
  },
  {
   "cell_type": "markdown",
   "metadata": {},
   "source": [
    "## Visualization:\n",
    "Interpolated 3D surface can be visualized both in 2D and 3D.\n",
    "\n"
   ]
  },
  {
   "cell_type": "code",
   "execution_count": null,
   "metadata": {
    "collapsed": false,
    "jupyter": {
     "outputs_hidden": false
    }
   },
   "outputs": [],
   "source": [
    "# 2D visualization:\n",
    "gpv.plot_2d(geo_model, cell_number=[5])\n",
    "\n",
    "# 3D visualization:\n",
    "gpv.plot_3d(geo_model, show_surfaces=True, image=True)"
   ]
  },
  {
   "cell_type": "markdown",
   "metadata": {},
   "source": [
    "## Expanding the Model with More Layers:\n",
    "Our cross-section image displays 4 layers, yet we only defined 2. Let's add two more.\n",
    "\n"
   ]
  },
  {
   "cell_type": "code",
   "execution_count": null,
   "metadata": {
    "collapsed": false,
    "jupyter": {
     "outputs_hidden": false
    }
   },
   "outputs": [],
   "source": [
    "# Display current structural frame:\n",
    "geo_model.structural_frame"
   ]
  },
  {
   "cell_type": "markdown",
   "metadata": {},
   "source": [
    "## Defining Layer 2:\n",
    "Adding points and properties for the next layer.\n",
    "\n"
   ]
  },
  {
   "cell_type": "code",
   "execution_count": null,
   "metadata": {
    "collapsed": false,
    "jupyter": {
     "outputs_hidden": false
    }
   },
   "outputs": [],
   "source": [
    "element2 = gp.data.StructuralElement(\n",
    "    name='surface2',\n",
    "    color=next(geo_model.structural_frame.color_generator),\n",
    "    surface_points=gp.data.SurfacePointsTable.from_arrays(\n",
    "        x=np.array([225, 459]),\n",
    "        y=np.array([0, 0]),\n",
    "        z=np.array([-269, -279]),\n",
    "        names='surface2'\n",
    "    ),\n",
    "    orientations=gp.data.OrientationsTable.initialize_empty()\n",
    ")\n",
    "\n",
    "geo_model.structural_frame.structural_groups[0].append_element(element2) \n",
    "\n",
    "# Compute and visualize the updated model: \n",
    "gp.compute_model(geo_model)\n",
    "gpv.plot_2d(geo_model, cell_number=5, legend='force')\n",
    "gpv.plot_3d(geo_model, show_data=False, show_surfaces=False, image=True)"
   ]
  },
  {
   "cell_type": "markdown",
   "metadata": {},
   "source": [
    "## Defining Layer 3:\n",
    "Adding points and properties for another layer.\n",
    "\n"
   ]
  },
  {
   "cell_type": "code",
   "execution_count": null,
   "metadata": {
    "collapsed": false,
    "jupyter": {
     "outputs_hidden": false
    }
   },
   "outputs": [],
   "source": [
    "element3 = gp.data.StructuralElement(\n",
    "    name='surface3',\n",
    "    color=next(geo_model.structural_frame.color_generator),\n",
    "    surface_points=gp.data.SurfacePointsTable.from_arrays(\n",
    "        x=np.array([225, 464, 619]),\n",
    "        y=np.array([0, 0, 0]),\n",
    "        z=np.array([-439, -456, -433]),\n",
    "        names='surface3'\n",
    "    ),\n",
    "    orientations=gp.data.OrientationsTable.initialize_empty()\n",
    ")\n",
    "\n",
    "geo_model.structural_frame.structural_groups[0].append_element(element3)\n",
    "\n",
    "# Compute and visualize with adjusted parameters: \n",
    "gp.compute_model(geo_model)\n",
    "gpv.plot_2d(geo_model, cell_number=5, legend='force')\n",
    "gpv.plot_3d(geo_model, kwargs_plot_structured_grid={'opacity': .2}, image=True)"
   ]
  },
  {
   "cell_type": "markdown",
   "metadata": {},
   "source": [
    "## Adding a Fault:\n",
    "To date, our model represents a simple depositional unit. With GemPy, we can\n",
    "incorporate unconformities and faults for more intricate models. \n",
    "Relationships are depicted as:\n",
    "input data (surface points/ orientations) <belong to< surface <belong to< series.\n",
    "Here, we'll add a fault as a demonstration. \n",
    "\n"
   ]
  },
  {
   "cell_type": "markdown",
   "metadata": {},
   "source": [
    "Add the fault's input data:\n",
    "\n"
   ]
  },
  {
   "cell_type": "code",
   "execution_count": null,
   "metadata": {
    "collapsed": false,
    "jupyter": {
     "outputs_hidden": false
    }
   },
   "outputs": [],
   "source": [
    "element_fault = gp.data.StructuralElement(\n",
    "    name='fault1',\n",
    "    color=next(geo_model.structural_frame.color_generator),\n",
    "    surface_points=gp.data.SurfacePointsTable.from_arrays(\n",
    "        x=np.array([550, 650]),\n",
    "        y=np.array([0, 0]),\n",
    "        z=np.array([-30, -200]),\n",
    "        names='fault1'\n",
    "    ),\n",
    "    orientations=gp.data.OrientationsTable.from_arrays(\n",
    "        x=np.array([600]),\n",
    "        y=np.array([0]),\n",
    "        z=np.array([-100]),\n",
    "        G_x=np.array([.3]),\n",
    "        G_y=np.array([0]),\n",
    "        G_z=np.array([.3]),\n",
    "        names='fault1'\n",
    "    )\n",
    ")\n",
    "\n",
    "group_fault = gp.data.StructuralGroup(\n",
    "    name='Fault1',\n",
    "    elements=[element_fault],\n",
    "    structural_relation=gp.data.StackRelationType.FAULT,\n",
    "    fault_relations=gp.data.FaultsRelationSpecialCase.OFFSET_ALL\n",
    ")\n",
    "\n",
    "# Insert the fault group into the structural frame:\n",
    "geo_model.structural_frame.insert_group(0, group_fault)\n",
    "\n",
    "# Preview the model's input data:\n",
    "gpv.plot_2d(geo_model, show_results=False)"
   ]
  },
  {
   "cell_type": "markdown",
   "metadata": {},
   "source": [
    "Compute and visualize the updated model:\n",
    "\n"
   ]
  },
  {
   "cell_type": "code",
   "execution_count": null,
   "metadata": {
    "collapsed": false,
    "jupyter": {
     "outputs_hidden": false
    }
   },
   "outputs": [],
   "source": [
    "gp.compute_model(geo_model)\n",
    "gpv.plot_2d(geo_model, cell_number=5, legend='force')\n",
    "gpv.plot_3d(geo_model, kwargs_plot_structured_grid={'opacity': .2})"
   ]
  },
  {
   "cell_type": "markdown",
   "metadata": {},
   "source": [
    "## Advanced Features:\n",
    "Over time, numerous capabilities have been integrated with GemPy. \n",
    "Here, we'll showcase a few of them.\n",
    "\n"
   ]
  },
  {
   "cell_type": "code",
   "execution_count": null,
   "metadata": {
    "collapsed": false,
    "jupyter": {
     "outputs_hidden": false
    }
   },
   "outputs": [],
   "source": [
    "# Topography:\n",
    "# GemPy offers built-in tools to manage topographic data through gdal.\n",
    "# For demonstration, we'll create a random topography:\n",
    "\n",
    "gp.set_topography_from_random(\n",
    "    grid=geo_model.grid,\n",
    "    fractal_dimension=1.9,\n",
    "    d_z=np.array([-150, 0]),\n",
    "    topography_resolution=np.array([200, 200])\n",
    ")\n",
    "\n",
    "# Visualize the topography:\n",
    "gpv.plot_2d(geo_model, cell_number=5, legend='force')\n",
    "gpv.plot_3d(geo_model, kwargs_plot_structured_grid={'opacity': .2})\n",
    "\n",
    "# Calculate and visualize the area's geological map:\n",
    "gp.compute_model(geo_model)\n",
    "gpv.plot_3d(geo_model, show_topography=True)"
   ]
  },
  {
   "cell_type": "markdown",
   "metadata": {},
   "source": [
    "#### Gravity Inversion:\n",
    "\n",
    ".. admonition:: Coming soon: Gravity inversion\n",
    "\n",
    "    This feature is not yet available in the current version of GemPy.\n",
    "\n"
   ]
  },
  {
   "cell_type": "markdown",
   "metadata": {},
   "source": [
    "Assign density values to model units:\n",
    "geo_model.add_surface_values([0, 2.6, 2.4, 3.2, 3.6], ['density'])\n",
    "\n",
    "Generate a centered grid around a device for improved accuracy:\n",
    "geo_model.set_centered_grid(centers=[[400, 0, 0]], resolution=[10, 10, 100], radius=800)\n",
    "\n",
    "Adjust the compile code for gravity computation:\n",
    "gp.set_interpolator(geo_model, output=['gravity'], aesara_optimizer='fast_run')\n",
    "\n",
    "Besides the interpolation, compute the model's forward gravity:\n",
    "gp.compute_model(geo_model)\n",
    "geo_model.solutions.fw_gravity\n",
    "\n",
    "sphinx_gallery_thumbnail_number = -2\n",
    "\n"
   ]
  }
 ],
 "metadata": {
  "kernelspec": {
   "display_name": "Python 3 (ipykernel)",
   "language": "python",
   "name": "python3"
  },
  "language_info": {
   "codemirror_mode": {
    "name": "ipython",
    "version": 3
   },
   "file_extension": ".py",
   "mimetype": "text/x-python",
   "name": "python",
   "nbconvert_exporter": "python",
   "pygments_lexer": "ipython3",
   "version": "3.11.5"
  }
 },
 "nbformat": 4,
 "nbformat_minor": 4
}
